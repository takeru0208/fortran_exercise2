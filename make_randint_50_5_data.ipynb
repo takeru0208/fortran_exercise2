{
  "nbformat": 4,
  "nbformat_minor": 0,
  "metadata": {
    "colab": {
      "name": "make_randint_50*5_data.ipynb",
      "provenance": [],
      "collapsed_sections": []
    },
    "kernelspec": {
      "name": "python3",
      "display_name": "Python 3"
    }
  },
  "cells": [
    {
      "source": [
        "# 本プログラムについて\n",
        "(5,50)の0から100までのデータを作成するプログラム"
      ],
      "cell_type": "markdown",
      "metadata": {}
    },
    {
      "cell_type": "code",
      "metadata": {
        "id": "SNOPki7U-WFV"
      },
      "source": [
        "import numpy as np\n"
      ],
      "execution_count": null,
      "outputs": []
    },
    {
      "cell_type": "code",
      "metadata": {
        "id": "DSnP6kGC_uJE",
        "outputId": "174bad66-c567-45ff-cba4-59875739489b",
        "colab": {
          "base_uri": "https://localhost:8080/",
          "height": 34
        }
      },
      "source": [
        "score = np.array(np.random.randint(0, 100, (50,5)), dtype=np.float64)\n",
        "print(' '.join(map(str, score[0])))"
      ],
      "execution_count": null,
      "outputs": [
        {
          "output_type": "stream",
          "text": [
            "33.0 72.0 21.0 58.0 49.0\n"
          ],
          "name": "stdout"
        }
      ]
    },
    {
      "cell_type": "code",
      "metadata": {
        "id": "_I3dN01I-hw8"
      },
      "source": [
        "\n",
        "with open('sample.dat', mode='w') as f:\n",
        "  for i in range(len(score)):\n",
        "    f.write(', '.join(map(str, score[i])))\n",
        "    f.write('\\n')\n"
      ],
      "execution_count": null,
      "outputs": []
    },
    {
      "cell_type": "code",
      "metadata": {
        "id": "Q6PUwwyvAHIQ"
      },
      "source": [
        ""
      ],
      "execution_count": null,
      "outputs": []
    }
  ]
}